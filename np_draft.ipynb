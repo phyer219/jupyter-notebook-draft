{
 "cells": [
  {
   "cell_type": "code",
   "execution_count": 19,
   "metadata": {},
   "outputs": [
    {
     "name": "stdout",
     "output_type": "stream",
     "text": [
      "2.034217386598922\n",
      "2.0344439357957027\n"
     ]
    }
   ],
   "source": [
    "import numpy as np\n",
    "from matplotlib import pyplot as plt\n",
    "from scipy import integrate\n",
    "\n",
    "# 定义变量\n",
    "l = 1 # lambd_tilde\n",
    "\n",
    "#画图的精度\n",
    "N = 100\n",
    "\n",
    "# 定义delta函数\n",
    "def delta(x):\n",
    "    b = .0001\n",
    "    f = b/(b**2 + x**2)/np.pi\n",
    "    return f\n",
    "# 定义主值函数\n",
    "def pv(x):\n",
    "    b = 0.0001\n",
    "    f = x/(b*2 + x**2)\n",
    "    return f\n",
    "\n",
    "def f(x):\n",
    "    return pv(1+x**2)\n",
    "\n",
    "a,b = integrate.quad(f, -1, 3)\n",
    "print(a)\n",
    "c = np.arctan(3) -np.arctan(-1)\n",
    "print(c)\n"
   ]
  },
  {
   "cell_type": "code",
   "execution_count": 3,
   "metadata": {},
   "outputs": [
    {
     "name": "stdout",
     "output_type": "stream",
     "text": [
      "1 2\n"
     ]
    }
   ],
   "source": [
    "A , B = 1 ,2\n",
    "print(A,B)"
   ]
  },
  {
   "cell_type": "code",
   "execution_count": 16,
   "metadata": {},
   "outputs": [
    {
     "name": "stdout",
     "output_type": "stream",
     "text": [
      "2\n"
     ]
    }
   ],
   "source": [
    "a , b = 12, 18\n",
    "o = 20\n",
    "\n",
    "if o>(a+b):\n",
    "    c = 1\n",
    "elif o>a and o>b:\n",
    "    c = 2\n",
    "elif o>a or o>b:\n",
    "    c = 3\n",
    "else:\n",
    "    c = 4\n",
    "                \n",
    "print(c)"
   ]
  },
  {
   "cell_type": "code",
   "execution_count": 52,
   "metadata": {},
   "outputs": [
    {
     "data": {
      "image/png": "[encoded data removed]",
      "text/plain": [
       "<Figure size 432x288 with 1 Axes>"
      ]
     },
     "metadata": {
      "needs_background": "light"
     },
     "output_type": "display_data"
    }
   ],
   "source": [
    "delta = .5\n",
    "\n",
    "o = np.linspace(-2, 2, 100)\n",
    "q = np.sin(o)\n",
    "fig, ax = plt.subplots()\n",
    "#line = ax.plot(o,q)\n",
    "\n",
    "ax.plot(o,o*0+1)\n",
    "#ax.plot(o,o*0)\n",
    "ax.plot(o*0,o)\n",
    "ax.plot(o*0+.5,o)\n",
    "\n",
    "#ax.set_xlim(0,4*np.pi)\n",
    "ax.set_xlim(-2,2)\n",
    "ax.set_ylim(0,1)\n",
    "ax.set_xticks([-2, delta-.5, delta, 2])\n",
    "ax.set_xticklabels(['$-2$', '$\\~\\delta-1/2$', '$\\~\\delta$'])\n",
    "ax.set_yticks([0,1])\n",
    "plt.show()"
   ]
  },
  {
   "cell_type": "code",
   "execution_count": 53,
   "metadata": {},
   "outputs": [
    {
     "data": {
      "image/png": "[encoded data removed]",
      "text/plain": [
       "<Figure size 432x288 with 1 Axes>"
      ]
     },
     "metadata": {
      "needs_background": "light"
     },
     "output_type": "display_data"
    }
   ],
   "source": [
    "import numpy as np\n",
    "from matplotlib import pyplot as plt\n",
    "\n",
    "delta = .5\n",
    "N = 100\n",
    "o = np.linspace(-2, 2, N)\n",
    "q = np.linspace(-2, 2, N)\n",
    "fig, ax = plt.subplots()\n",
    "\n",
    "ax.plot(o*0+delta,o, 'g')\n",
    "\n",
    "l1 = delta - q**2/2\n",
    "ax.plot(l1, q, 'r')\n",
    "l2 = delta - (q-1)**2/2\n",
    "ax.plot(l2, q, color = 'blue')\n",
    "\n",
    "o1 = np.linspace(-2, delta-.5,100)\n",
    "ax.fill_between(o1, o1*0, o1*0+1)\n",
    "\n",
    "o2 = np.linspace(delta-.5, delta, 100)\n",
    "ax.fill_between(o2, np.sqrt(2*(delta-o2)), 1-np.sqrt(2*(delta-o2)))\n",
    "\n",
    "o3 = np.linspace(delta, 2,100)\n",
    "ax.fill_between(o3, o3*0, o3*0+1, color = 'gray')\n",
    "\n",
    "\n",
    "ax.set_xlabel('$\\~\\omega$')\n",
    "ax.set_ylabel('$\\~q$')\n",
    "\n",
    "ax.set_xlim(-2,2)\n",
    "ax.set_ylim(0,1)\n",
    "ax.set_xticks([-2, delta-.5, delta, 2])\n",
    "ax.set_xticklabels(['$-2$', '$\\~\\delta-1/2$', '$\\~\\delta$', '$2$'])\n",
    "ax.set_yticks([0,1])\n",
    "plt.show()\n"
   ]
  },
  {
   "cell_type": "code",
   "execution_count": 4,
   "metadata": {},
   "outputs": [
    {
     "data": {
      "text/plain": [
       "(0.3333333333333333, 5.551115123125783e-17)"
      ]
     },
     "execution_count": 4,
     "metadata": {},
     "output_type": "execute_result"
    }
   ],
   "source": [
    "\n",
    "from scipy import integrate\n",
    "f = lambda x:x**2\n",
    "integrate.quadrature(f,0,1)"
   ]
  },
  {
   "cell_type": "code",
   "execution_count": null,
   "metadata": {},
   "outputs": [],
   "source": []
  }
 ],
 "metadata": {
  "kernelspec": {
   "display_name": "Python 3",
   "language": "python",
   "name": "python3"
  },
  "language_info": {
   "codemirror_mode": {
    "name": "ipython",
    "version": 3
   },
   "file_extension": ".py",
   "mimetype": "text/x-python",
   "name": "python",
   "nbconvert_exporter": "python",
   "pygments_lexer": "ipython3",
   "version": "3.7.2"
  }
 },
 "nbformat": 4,
 "nbformat_minor": 2
}
