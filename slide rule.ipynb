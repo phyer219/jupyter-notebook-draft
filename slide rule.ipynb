{
 "cells": [
  {
   "cell_type": "code",
   "execution_count": 85,
   "metadata": {
    "scrolled": true
   },
   "outputs": [
    {
     "name": "stdout",
     "output_type": "stream",
     "text": [
      "\\draw ( -0.3 , 0.0 )--( 0 , 0.0 )node[anchor = west]{ 1 };\n",
      "\\draw ( -0.3 , 0.6931471805599453 )--( 0 , 0.6931471805599453 )node[anchor = west]{ 2 };\n",
      "\\draw ( -0.3 , 1.0986122886681098 )--( 0 , 1.0986122886681098 )node[anchor = west]{ 3 };\n",
      "\\draw ( -0.3 , 1.3862943611198906 )--( 0 , 1.3862943611198906 )node[anchor = west]{ 4 };\n",
      "\\draw ( -0.3 , 1.6094379124341003 )--( 0 , 1.6094379124341003 )node[anchor = west]{ 5 };\n",
      "\\draw ( -0.3 , 1.791759469228055 )--( 0 , 1.791759469228055 )node[anchor = west]{ 6 };\n",
      "\\draw ( -0.3 , 1.9459101490553132 )--( 0 , 1.9459101490553132 )node[anchor = west]{ 7 };\n",
      "\\draw ( -0.3 , 2.0794415416798357 )--( 0 , 2.0794415416798357 )node[anchor = west]{ 8 };\n",
      "\\draw ( -0.3 , 2.1972245773362196 )--( 0 , 2.1972245773362196 )node[anchor = west]{ 9 };\n",
      "\\draw ( -0.3 , 2.302585092994046 )--( 0 , 2.302585092994046 )node[anchor = west]{ 10 };\n",
      "\\draw ( -0.3 , 2.3978952727983707 )--( 0 , 2.3978952727983707 )node[anchor = west]{ 11 };\n",
      "\\draw ( -0.3 , 2.4849066497880004 )--( 0 , 2.4849066497880004 )node[anchor = west]{ 12 };\n",
      "\\draw ( -0.3 , 2.5649493574615367 )--( 0 , 2.5649493574615367 )node[anchor = west]{ 13 };\n",
      "\\draw ( -0.3 , 2.6390573296152584 )--( 0 , 2.6390573296152584 )node[anchor = west]{ 14 };\n",
      "\\draw ( -0.3 , 2.70805020110221 )--( 0 , 2.70805020110221 )node[anchor = west]{ 15 };\n",
      "\\draw ( -0.3 , 2.772588722239781 )--( 0 , 2.772588722239781 )node[anchor = west]{ 16 };\n",
      "\\draw ( -0.3 , 2.833213344056216 )--( 0 , 2.833213344056216 )node[anchor = west]{ 17 };\n",
      "\\draw ( -0.3 , 2.8903717578961645 )--( 0 , 2.8903717578961645 )node[anchor = west]{ 18 };\n",
      "\\draw ( -0.3 , 2.9444389791664403 )--( 0 , 2.9444389791664403 )node[anchor = west]{ 19 };\n",
      "\\draw ( -0.3 , 2.995732273553991 )--( 0 , 2.995732273553991 )node[anchor = west]{ 20 };\n",
      "\\draw ( -0.3 , 3.044522437723423 )--( 0 , 3.044522437723423 )node[anchor = west]{ 21 };\n",
      "\\draw ( -0.3 , 3.091042453358316 )--( 0 , 3.091042453358316 )node[anchor = west]{ 22 };\n",
      "\\draw ( -0.3 , 3.1354942159291497 )--( 0 , 3.1354942159291497 )node[anchor = west]{ 23 };\n",
      "\\draw ( -0.3 , 3.1780538303479458 )--( 0 , 3.1780538303479458 )node[anchor = west]{ 24 };\n",
      "\\draw ( -0.3 , 3.2188758248682006 )--( 0 , 3.2188758248682006 )node[anchor = west]{ 25 };\n",
      "\\draw ( -0.3 , 3.258096538021482 )--( 0 , 3.258096538021482 )node[anchor = west]{ 26 };\n",
      "\\draw ( -0.3 , 3.295836866004329 )--( 0 , 3.295836866004329 )node[anchor = west]{ 27 };\n",
      "\\draw ( -0.3 , 3.332204510175204 )--( 0 , 3.332204510175204 )node[anchor = west]{ 28 };\n",
      "\\draw ( -0.3 , 3.367295829986474 )--( 0 , 3.367295829986474 )node[anchor = west]{ 29 };\n",
      "\\draw ( -0.3 , 3.4011973816621555 )--( 0 , 3.4011973816621555 )node[anchor = west]{ 30 };\n",
      "\\draw ( -0.3 , 3.4339872044851463 )--( 0 , 3.4339872044851463 )node[anchor = west]{ 31 };\n",
      "\\draw ( -0.3 , 3.4657359027997265 )--( 0 , 3.4657359027997265 )node[anchor = west]{ 32 };\n",
      "\\draw ( -0.3 , 3.4965075614664802 )--( 0 , 3.4965075614664802 )node[anchor = west]{ 33 };\n",
      "\\draw ( -0.3 , 3.5263605246161616 )--( 0 , 3.5263605246161616 )node[anchor = west]{ 34 };\n",
      "\\draw ( -0.3 , 3.5553480614894135 )--( 0 , 3.5553480614894135 )node[anchor = west]{ 35 };\n",
      "\\draw ( -0.3 , 3.58351893845611 )--( 0 , 3.58351893845611 )node[anchor = west]{ 36 };\n",
      "\\draw ( -0.3 , 3.6109179126442243 )--( 0 , 3.6109179126442243 )node[anchor = west]{ 37 };\n",
      "\\draw ( -0.3 , 3.6375861597263857 )--( 0 , 3.6375861597263857 )node[anchor = west]{ 38 };\n",
      "\\draw ( -0.3 , 3.6635616461296463 )--( 0 , 3.6635616461296463 )node[anchor = west]{ 39 };\n",
      "\\draw ( -0.3 , 3.6888794541139363 )--( 0 , 3.6888794541139363 )node[anchor = west]{ 40 };\n",
      "\\draw ( -0.3 , 3.713572066704308 )--( 0 , 3.713572066704308 )node[anchor = west]{ 41 };\n",
      "\\draw ( -0.3 , 3.7376696182833684 )--( 0 , 3.7376696182833684 )node[anchor = west]{ 42 };\n",
      "\\draw ( -0.3 , 3.7612001156935624 )--( 0 , 3.7612001156935624 )node[anchor = west]{ 43 };\n",
      "\\draw ( -0.3 , 3.784189633918261 )--( 0 , 3.784189633918261 )node[anchor = west]{ 44 };\n",
      "\\draw ( -0.3 , 3.8066624897703196 )--( 0 , 3.8066624897703196 )node[anchor = west]{ 45 };\n",
      "\\draw ( -0.3 , 3.828641396489095 )--( 0 , 3.828641396489095 )node[anchor = west]{ 46 };\n",
      "\\draw ( -0.3 , 3.8501476017100584 )--( 0 , 3.8501476017100584 )node[anchor = west]{ 47 };\n",
      "\\draw ( -0.3 , 3.871201010907891 )--( 0 , 3.871201010907891 )node[anchor = west]{ 48 };\n",
      "\\draw ( -0.3 , 3.8918202981106265 )--( 0 , 3.8918202981106265 )node[anchor = west]{ 49 };\n",
      "\\draw ( -0.3 , 3.912023005428146 )--( 0 , 3.912023005428146 )node[anchor = west]{ 50 };\n"
     ]
    }
   ],
   "source": [
    "import numpy as np\n",
    "import matplotlib.pyplot as plt\n",
    "N = 50\n",
    "x = np.linspace(1,N,N)\n",
    "y = np.log(x)\n",
    "\n",
    "a = -0.3\n",
    "b = 0\n",
    "\n",
    "for i in range(N):\n",
    "    print('\\draw (', a ,',',y[i],')--(',b,',',y[i],')node[anchor = west]{',i+1,'};')\n"
   ]
  },
  {
   "cell_type": "code",
   "execution_count": 65,
   "metadata": {},
   "outputs": [
    {
     "data": {
      "text/plain": [
       "1.2589254117941673"
      ]
     },
     "execution_count": 65,
     "metadata": {},
     "output_type": "execute_result"
    }
   ],
   "source": [
    "100**(0.05)"
   ]
  },
  {
   "cell_type": "code",
   "execution_count": 45,
   "metadata": {},
   "outputs": [
    {
     "name": "stdout",
     "output_type": "stream",
     "text": [
      "hello 1\n",
      "1\n"
     ]
    }
   ],
   "source": [
    "a = 1\n",
    "print('hello',a)\n",
    "print(a)"
   ]
  },
  {
   "cell_type": "code",
   "execution_count": 62,
   "metadata": {},
   "outputs": [
    {
     "name": "stdout",
     "output_type": "stream",
     "text": [
      "0\n",
      "1\n",
      "2\n"
     ]
    }
   ],
   "source": [
    "for i in range(3):\n",
    "    print(i)"
   ]
  },
  {
   "cell_type": "code",
   "execution_count": null,
   "metadata": {},
   "outputs": [],
   "source": []
  }
 ],
 "metadata": {
  "kernelspec": {
   "display_name": "Python 3",
   "language": "python",
   "name": "python3"
  },
  "language_info": {
   "codemirror_mode": {
    "name": "ipython",
    "version": 3
   },
   "file_extension": ".py",
   "mimetype": "text/x-python",
   "name": "python",
   "nbconvert_exporter": "python",
   "pygments_lexer": "ipython3",
   "version": "3.7.1"
  }
 },
 "nbformat": 4,
 "nbformat_minor": 2
}
