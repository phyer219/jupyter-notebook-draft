{
 "cells": [
  {
   "cell_type": "code",
   "execution_count": 4,
   "metadata": {
    "scrolled": true
   },
   "outputs": [
    {
     "name": "stdout",
     "output_type": "stream",
     "text": [
      "0.0\n",
      "-1\n",
      "0.0\n",
      "0\n",
      "0.0\n",
      "1\n",
      "0.0\n",
      "2\n",
      "0.0\n",
      "3\n",
      "0.0\n",
      "4\n",
      "0.0\n",
      "5\n",
      "0.0\n",
      "6\n",
      "0.0\n",
      "7\n",
      "0.0\n",
      "8\n",
      "0.0\n",
      "9\n",
      "0.0\n",
      "10\n",
      "0.0\n",
      "11\n",
      "0.0\n",
      "12\n",
      "0.0\n",
      "13\n",
      "0.0\n",
      "14\n",
      "0.0\n",
      "15\n",
      "0.0\n",
      "16\n",
      "0.0\n",
      "17\n",
      "0.0\n",
      "18\n",
      "0.0\n",
      "19\n",
      "0.0\n",
      "20\n",
      "0.0\n",
      "21\n",
      "0.0\n",
      "22\n",
      "0.0\n",
      "23\n",
      "0.0\n",
      "24\n",
      "0.0\n",
      "25\n",
      "0.0\n",
      "26\n",
      "0.0\n",
      "27\n",
      "0.0\n",
      "28\n",
      "0.0\n",
      "29\n",
      "0.0\n",
      "30\n",
      "0.0\n",
      "31\n",
      "0.0\n",
      "32\n",
      "0.0\n",
      "33\n",
      "0.0\n",
      "34\n",
      "0.0\n",
      "35\n",
      "0.0\n",
      "36\n",
      "0.0\n",
      "37\n",
      "0.0\n",
      "38\n",
      "0.0\n",
      "39\n",
      "0.0\n",
      "40\n",
      "0.0\n",
      "41\n",
      "0.0\n",
      "42\n",
      "0.0\n",
      "43\n",
      "0.0\n",
      "44\n",
      "0.0\n",
      "45\n",
      "0.0\n",
      "46\n",
      "0.0\n",
      "47\n",
      "0.0\n",
      "48\n",
      "0.0\n",
      "49\n",
      "0.0\n",
      "50\n",
      "0.0\n",
      "51\n",
      "0.0\n",
      "52\n",
      "0.0\n",
      "53\n",
      "0.0\n",
      "54\n",
      "0.0\n",
      "55\n",
      "0.0\n",
      "56\n",
      "0.0\n",
      "57\n",
      "0.0\n",
      "58\n",
      "0.0\n",
      "59\n",
      "0.0\n",
      "60\n",
      "0.0\n",
      "61\n",
      "0.0\n",
      "62\n",
      "0.0\n",
      "63\n",
      "0.0\n",
      "64\n",
      "0.0\n",
      "65\n",
      "0.0\n",
      "66\n",
      "0.0\n",
      "67\n",
      "0.0\n",
      "68\n",
      "0.0\n",
      "69\n",
      "0.0\n",
      "70\n",
      "0.0\n",
      "71\n",
      "0.0\n",
      "72\n",
      "0.0\n",
      "73\n",
      "0.0\n",
      "74\n",
      "0.0\n",
      "75\n",
      "0.0\n",
      "76\n",
      "0.0\n",
      "77\n",
      "0.0\n",
      "78\n",
      "0.0\n",
      "79\n",
      "0.0\n",
      "80\n",
      "0.0\n",
      "81\n",
      "0.0\n",
      "82\n",
      "0.0\n",
      "83\n",
      "0.0\n",
      "84\n",
      "0.0\n",
      "85\n",
      "0.0\n",
      "86\n",
      "0.0\n",
      "87\n",
      "0.0\n",
      "88\n",
      "0.0\n",
      "89\n",
      "0.0\n",
      "90\n",
      "0.0\n",
      "91\n",
      "0.0\n",
      "92\n",
      "0.0\n",
      "93\n",
      "0.0\n",
      "94\n",
      "0.0\n",
      "95\n",
      "0.0\n",
      "96\n",
      "0.0\n",
      "97\n",
      "0.0\n",
      "98\n"
     ]
    },
    {
     "data": {
      "image/png": "[encoded data removed]",
      "text/plain": [
       "<Figure size 432x288 with 1 Axes>"
      ]
     },
     "metadata": {
      "needs_background": "light"
     },
     "output_type": "display_data"
    }
   ],
   "source": [
    "import numpy as np\n",
    "from matplotlib import pyplot as plt\n",
    "from scipy import integrate\n",
    "\n",
    "# 定义变量\n",
    "l = 1 # lambd_tilde\n",
    "\n",
    "#画图的精度\n",
    "N = 100\n",
    "\n",
    "# 定义delta函数\n",
    "def delta(x):\n",
    "    b = .0001\n",
    "    f = b/(b**2 + x**2)/np.pi\n",
    "    return f\n",
    "# 定义主值函数\n",
    "def pv(x):\n",
    "    b = 0.0001\n",
    "    f = x/(b*2 + x**2)\n",
    "    return f\n",
    "\n",
    "\n",
    "#d = -4 # dleta_tilde\n",
    "\n",
    "\n",
    "\n",
    "# 定义最终想要得到的函数\n",
    "def I(o,d):\n",
    "\n",
    "    def I(q):#定义没有积分的结果\n",
    "\n",
    "        def A(q):#定义theta的虚部\n",
    "            def A(p):\n",
    "                x = o + (p-q)**2/2 - d\n",
    "                A =np.pi * delta(x)\n",
    "                return A\n",
    "            (fres,err) = integrate.quad(A,0,1)\n",
    "            return fres\n",
    "\n",
    "        def B(q):#定义theta的实部\n",
    "            def B(p):\n",
    "                x = o + (p-q)**2/2 - d\n",
    "                B = pv(x)\n",
    "                return B\n",
    "            (fres,err) = integrate.quad(B,0,1)\n",
    "            return fres\n",
    "\n",
    "        I = l**2*A(q) / ( (o-l**2*B(q))**2 + l**4*A(q)**2 )\n",
    "        return I\n",
    "\n",
    "    (fres,err) = integrate.quad(I,0,1)#对其积分,即得到最终结果\n",
    "    return(fres)\n",
    "\n",
    "\n",
    "\n",
    "#画图的横坐标omega从-2取到2\n",
    "omega = np.linspace(-2,2,N)\n",
    "\n",
    "C = 1 # 画C根线\n",
    "#求出想要的函数在横坐标取值区间内的结果\n",
    "I_omega = np.linspace(0,0,N)\n",
    "\n",
    "for j in range (C):\n",
    "    d = j-(C-1)/2\n",
    "    d = d/2 #间距是分母分之一\n",
    "    for i in range(N):\n",
    "        I_omega[i-1] = I(omega[i-1],d)\n",
    "#        print(d)\n",
    "#        print(i-1)\n",
    "    plt.plot(omega,I_omega+100*j, label='d= %.2f' %(d) , color='gray')\n",
    "\n",
    "#plt.legend()\n",
    "\n",
    "plt.show()\n",
    "\n",
    "\n"
   ]
  },
  {
   "cell_type": "code",
   "execution_count": 24,
   "metadata": {},
   "outputs": [
    {
     "data": {
      "image/png": "[encoded data removed]",
      "text/plain": [
       "<Figure size 432x288 with 1 Axes>"
      ]
     },
     "metadata": {
      "needs_background": "light"
     },
     "output_type": "display_data"
    }
   ],
   "source": [
    "d = 0\n",
    "o = 1\n",
    "\n",
    "def pv(x):\n",
    "    b = 1e-9\n",
    "    f = x/(b*2 + x**2)\n",
    "    return f\n",
    "\n",
    "def B(q):#定义theta的实部\n",
    "            def B(p):\n",
    "                x = o + (p-q)**2/2\n",
    "                B = pv(x)\n",
    "                return B\n",
    "            (fres,err) = integrate.quad(B,0,1)\n",
    "            return fres\n",
    "q = np.linspace(0,1,100)\n",
    "y = np.linspace(0,0,100)\n",
    "for i in range(100):\n",
    "    y[i] = B(q[i])\n",
    "plt.plot(q,y)\n",
    "\n",
    "w = np.arctan((1-q)/1.41 ) -np.arctan((-q)/1.41 )\n",
    "plt.plot(q,1.41*w)\n",
    "plt.show()"
   ]
  },
  {
   "cell_type": "code",
   "execution_count": 20,
   "metadata": {},
   "outputs": [
    {
     "data": {
      "text/plain": [
       "0.4636476090008061"
      ]
     },
     "execution_count": 20,
     "metadata": {},
     "output_type": "execute_result"
    }
   ],
   "source": [
    "q = 0\n",
    "np.arctan((1-q)/2 ) -np.arctan((-q)/2 )"
   ]
  },
  {
   "cell_type": "code",
   "execution_count": 7,
   "metadata": {},
   "outputs": [
    {
     "name": "stdout",
     "output_type": "stream",
     "text": [
      "-0.08811365190501297\n"
     ]
    },
    {
     "data": {
      "image/png": "[encoded data removed]",
      "text/plain": [
       "<Figure size 432x288 with 1 Axes>"
      ]
     },
     "metadata": {
      "needs_background": "light"
     },
     "output_type": "display_data"
    }
   ],
   "source": [
    "import numpy as np\n",
    "from matplotlib import pyplot as plt\n",
    "from scipy import integrate\n",
    "\n",
    "def delta(x):\n",
    "    b = .0001\n",
    "    f = b/(b**2 + x**2)/np.pi\n",
    "    return f\n",
    "\n",
    "\n",
    "d = 8\n",
    "l = 1\n",
    "\n",
    "\n",
    "N = 1000\n",
    "\n",
    "o = 0\n",
    "k = .5\n",
    "\n",
    "\n",
    "def s(p):\n",
    "    s = p/k *( np.log( np.abs(o-d+ (k+p)**2/2 ) )\\\n",
    "    - np.log( np.abs(o-d+ (k-p)**2/2 ) ))\n",
    "    return s\n",
    "S, err = integrate.quad(s,0,1)\n",
    "\n",
    "p = np.linspace(0,1,N)\n",
    "y = s(p)\n",
    "plt.plot(p,y)\n",
    "plt.show\n",
    "print(S)"
   ]
  },
  {
   "cell_type": "code",
   "execution_count": 13,
   "metadata": {},
   "outputs": [
    {
     "name": "stdout",
     "output_type": "stream",
     "text": [
      "[0. 0.]\n",
      "1.6 1.4\n"
     ]
    }
   ],
   "source": [
    "a = np.array([0.0,0.0])\n",
    "print(a)\n",
    "a[0] = 1.6\n",
    "a[1] = 1.4\n",
    "print(a[0],a[1])"
   ]
  },
  {
   "cell_type": "code",
   "execution_count": 5,
   "metadata": {},
   "outputs": [
    {
     "data": {
      "image/png": "[encoded data removed]",
      "text/plain": [
       "<Figure size 432x288 with 1 Axes>"
      ]
     },
     "metadata": {
      "needs_background": "light"
     },
     "output_type": "display_data"
    }
   ],
   "source": [
    "import numpy as np\n",
    "from matplotlib import pyplot as plt\n",
    "from scipy import integrate\n",
    "N = 100\n",
    "omega = np.linspace(-2,2,N)\n",
    "d = -3\n",
    "#o = .2\n",
    "def delta(x):\n",
    "    b = 1\n",
    "    f = b/(b**2 + x**2)/np.pi\n",
    "    return f\n",
    "\n",
    "def s(k,o):\n",
    "    def s(p):\n",
    "        s = p/k*( np.log( np.abs(o-d + (k+p)**2/2) ) - np.log( np.abs(o-d + (k-p)**2/2) ) )\n",
    "        return s\n",
    "    S ,err= integrate.quad(s,0,1)\n",
    "    return S\n",
    "II = np.linspace(0,0,N)\n",
    "'''\n",
    "for i in range(N):\n",
    "    S[i] = s(k[i])\n",
    "'''\n",
    "#o = .3\n",
    "def I(o):\n",
    "    def I(k):\n",
    "        I = k**2*delta(o-s(k,o))\n",
    "        return I\n",
    "    I, err = integrate.quad(I,1e-2,1)\n",
    "    return I\n",
    "for i in range(N):\n",
    "    II[i] = I(omega[i])\n",
    "\n",
    "plt.plot(omega,II)\n",
    "\n",
    "\n",
    "\n",
    "plt.show()\n",
    "\n",
    "\n",
    "#plt.plot(o,II)\n"
   ]
  },
  {
   "cell_type": "code",
   "execution_count": 16,
   "metadata": {},
   "outputs": [
    {
     "name": "stderr",
     "output_type": "stream",
     "text": [
      "/usr/lib/python3.7/site-packages/ipykernel_launcher.py:15: RuntimeWarning: divide by zero encountered in double_scalars\n",
      "  from ipykernel import kernelapp as app\n",
      "/usr/lib/python3.7/site-packages/ipykernel_launcher.py:15: RuntimeWarning: invalid value encountered in double_scalars\n",
      "  from ipykernel import kernelapp as app\n",
      "/usr/lib/python3.7/site-packages/ipykernel_launcher.py:17: IntegrationWarning: The occurrence of roundoff error is detected, which prevents \n",
      "  the requested tolerance from being achieved.  The error may be \n",
      "  underestimated.\n"
     ]
    },
    {
     "data": {
      "image/png": "[encoded data removed]",
      "text/plain": [
       "<Figure size 432x288 with 1 Axes>"
      ]
     },
     "metadata": {
      "needs_background": "light"
     },
     "output_type": "display_data"
    }
   ],
   "source": [
    "import numpy as np\n",
    "from matplotlib import pyplot as plt\n",
    "from scipy import integrate\n",
    "N = 100\n",
    "omega = np.linspace(-2,2,N)\n",
    "d = -8\n",
    "#o = -8\n",
    "def delta(x):\n",
    "    b = .0001\n",
    "    f = b/(b**2 + x**2)/np.pi\n",
    "    return f\n",
    "\n",
    "def s(k,o):\n",
    "    def s(p):\n",
    "        s = p/k*( np.log( np.abs(o-d + (k+p)**2/2) ) - np.log( np.abs(o-d + (k-p)**2/2) ) )\n",
    "        return s\n",
    "    S ,err= integrate.quad(s,0,1)\n",
    "    return S\n",
    "II = np.linspace(0,0,N)\n",
    "'''\n",
    "for i in range(N):\n",
    "    S[i] = s(k[i])\n",
    "'''\n",
    "o = .2\n",
    "\n",
    "def I(k):\n",
    "    I = k**2*delta(o-s(k,o))\n",
    "    return I\n",
    "\n",
    "\n",
    "k = np.linspace(0,1,N)\n",
    "II = np.linspace(0,0,N)\n",
    "\n",
    "for i in range(N):\n",
    "    II[i] = I(k[i])\n",
    "\n",
    "plt.plot(k,II)\n",
    "plt.show()"
   ]
  },
  {
   "cell_type": "code",
   "execution_count": 25,
   "metadata": {},
   "outputs": [
    {
     "data": {
      "image/png": "[encoded data removed]",
      "text/plain": [
       "<Figure size 432x288 with 1 Axes>"
      ]
     },
     "metadata": {
      "needs_background": "light"
     },
     "output_type": "display_data"
    }
   ],
   "source": [
    "import numpy as np\n",
    "from matplotlib import pyplot as plt\n",
    "from scipy import integrate\n",
    "N = 1000\n",
    "\n",
    "\n",
    "o = .6\n",
    "d = 0\n",
    "#k = .5\n",
    "er = 1e-2\n",
    "\n",
    "k = np.linspace(er,1,N)\n",
    "\n",
    "\n",
    "def ss(o,d,k,p):\n",
    "    s = p/k*( np.log( np.abs(o-d + (k+p)**2/2) ) - np.log( np.abs(o-d + (k-p)**2/2) ) )\n",
    "    return s\n",
    "\n",
    "\n",
    "def S(k):\n",
    "    def s(p):\n",
    "        return (ss(o,d,k,p))\n",
    "    S,err = integrate.quad(s,0,1)\n",
    "    return S\n",
    "\n",
    "SS = np.linspace(er,0,N)\n",
    "for i in range(N):\n",
    "    SS[i] = S(k[i])\n",
    "plt.plot(k,SS)\n",
    "plt.show()\n"
   ]
  },
  {
   "cell_type": "code",
   "execution_count": 26,
   "metadata": {},
   "outputs": [
    {
     "data": {
      "image/png": "[encoded data removed]",
      "text/plain": [
       "<Figure size 432x288 with 1 Axes>"
      ]
     },
     "metadata": {
      "needs_background": "light"
     },
     "output_type": "display_data"
    }
   ],
   "source": [
    "import numpy as np\n",
    "from matplotlib import pyplot as plt\n",
    "from scipy import integrate\n",
    "N = 1000\n",
    "\n",
    "\n",
    "d = -2\n",
    "\n",
    "#k = .5\n",
    "er = 1e-2\n",
    "\n",
    "k = np.linspace(er,1,N)\n",
    "\n",
    "def delta(x):\n",
    "    b = .0001\n",
    "    f = b/(b**2 + x**2)/np.pi\n",
    "    return f\n",
    "def ss(o,d,k,p):\n",
    "    s = p/k*( np.log( np.abs(o-d + (k+p)**2/2) ) - np.log( np.abs(o-d + (k-p)**2/2) ) )\n",
    "    return s\n",
    "\n",
    "\n",
    "def S(k,o):\n",
    "    def s(p):\n",
    "        return (ss(o,d,k,p))\n",
    "    S,err = integrate.quad(s,0,1)\n",
    "    return S\n",
    "\n",
    "def I(o,k):\n",
    "    I = k**2*delta(o-S(k,o))\n",
    "    return I\n",
    "\n",
    "\n",
    "omega = np.linspace(-2,2,N)\n",
    "y = np.linspace(0,0,N)\n",
    "for i in range(N):    \n",
    "    II = lambda k: I(omega[i],k)\n",
    "    y[i],err = integrate.quad(II,er,1)\n",
    "\n",
    "plt.plot(omega,y)\n",
    "plt.show()"
   ]
  },
  {
   "cell_type": "code",
   "execution_count": 1,
   "metadata": {},
   "outputs": [
    {
     "name": "stdout",
     "output_type": "stream",
     "text": [
      "第 1 条线 第 1 个点 共 3 条线 每条线 100 个点\n",
      "第 1 条线 第 2 个点 共 3 条线 每条线 100 个点\n",
      "第 1 条线 第 3 个点 共 3 条线 每条线 100 个点\n",
      "第 1 条线 第 4 个点 共 3 条线 每条线 100 个点\n",
      "第 1 条线 第 5 个点 共 3 条线 每条线 100 个点\n",
      "第 1 条线 第 6 个点 共 3 条线 每条线 100 个点\n",
      "第 1 条线 第 7 个点 共 3 条线 每条线 100 个点\n",
      "第 1 条线 第 8 个点 共 3 条线 每条线 100 个点\n",
      "第 1 条线 第 9 个点 共 3 条线 每条线 100 个点\n",
      "第 1 条线 第 10 个点 共 3 条线 每条线 100 个点\n",
      "第 1 条线 第 11 个点 共 3 条线 每条线 100 个点\n",
      "第 1 条线 第 12 个点 共 3 条线 每条线 100 个点\n",
      "第 1 条线 第 13 个点 共 3 条线 每条线 100 个点\n",
      "第 1 条线 第 14 个点 共 3 条线 每条线 100 个点\n",
      "第 1 条线 第 15 个点 共 3 条线 每条线 100 个点\n",
      "第 1 条线 第 16 个点 共 3 条线 每条线 100 个点\n",
      "第 1 条线 第 17 个点 共 3 条线 每条线 100 个点\n",
      "第 1 条线 第 18 个点 共 3 条线 每条线 100 个点\n",
      "第 1 条线 第 19 个点 共 3 条线 每条线 100 个点\n",
      "第 1 条线 第 20 个点 共 3 条线 每条线 100 个点\n",
      "第 1 条线 第 21 个点 共 3 条线 每条线 100 个点\n",
      "第 1 条线 第 22 个点 共 3 条线 每条线 100 个点\n",
      "第 1 条线 第 23 个点 共 3 条线 每条线 100 个点\n",
      "第 1 条线 第 24 个点 共 3 条线 每条线 100 个点\n",
      "第 1 条线 第 25 个点 共 3 条线 每条线 100 个点\n",
      "第 1 条线 第 26 个点 共 3 条线 每条线 100 个点\n",
      "第 1 条线 第 27 个点 共 3 条线 每条线 100 个点\n",
      "第 1 条线 第 28 个点 共 3 条线 每条线 100 个点\n",
      "第 1 条线 第 29 个点 共 3 条线 每条线 100 个点\n",
      "第 1 条线 第 30 个点 共 3 条线 每条线 100 个点\n",
      "第 1 条线 第 31 个点 共 3 条线 每条线 100 个点\n",
      "第 1 条线 第 32 个点 共 3 条线 每条线 100 个点\n",
      "第 1 条线 第 33 个点 共 3 条线 每条线 100 个点\n",
      "第 1 条线 第 34 个点 共 3 条线 每条线 100 个点\n",
      "第 1 条线 第 35 个点 共 3 条线 每条线 100 个点\n",
      "第 1 条线 第 36 个点 共 3 条线 每条线 100 个点\n",
      "第 1 条线 第 37 个点 共 3 条线 每条线 100 个点\n",
      "第 1 条线 第 38 个点 共 3 条线 每条线 100 个点\n",
      "第 1 条线 第 39 个点 共 3 条线 每条线 100 个点\n",
      "第 1 条线 第 40 个点 共 3 条线 每条线 100 个点\n",
      "第 1 条线 第 41 个点 共 3 条线 每条线 100 个点\n",
      "第 1 条线 第 42 个点 共 3 条线 每条线 100 个点\n",
      "第 1 条线 第 43 个点 共 3 条线 每条线 100 个点\n",
      "第 1 条线 第 44 个点 共 3 条线 每条线 100 个点\n",
      "第 1 条线 第 45 个点 共 3 条线 每条线 100 个点\n",
      "第 1 条线 第 46 个点 共 3 条线 每条线 100 个点\n",
      "第 1 条线 第 47 个点 共 3 条线 每条线 100 个点\n",
      "第 1 条线 第 48 个点 共 3 条线 每条线 100 个点\n",
      "第 1 条线 第 49 个点 共 3 条线 每条线 100 个点\n",
      "第 1 条线 第 50 个点 共 3 条线 每条线 100 个点\n",
      "第 1 条线 第 51 个点 共 3 条线 每条线 100 个点\n",
      "第 1 条线 第 52 个点 共 3 条线 每条线 100 个点\n",
      "第 1 条线 第 53 个点 共 3 条线 每条线 100 个点\n",
      "第 1 条线 第 54 个点 共 3 条线 每条线 100 个点\n",
      "第 1 条线 第 55 个点 共 3 条线 每条线 100 个点\n",
      "第 1 条线 第 56 个点 共 3 条线 每条线 100 个点\n",
      "第 1 条线 第 57 个点 共 3 条线 每条线 100 个点\n",
      "第 1 条线 第 58 个点 共 3 条线 每条线 100 个点\n",
      "第 1 条线 第 59 个点 共 3 条线 每条线 100 个点\n",
      "第 1 条线 第 60 个点 共 3 条线 每条线 100 个点\n",
      "第 1 条线 第 61 个点 共 3 条线 每条线 100 个点\n",
      "第 1 条线 第 62 个点 共 3 条线 每条线 100 个点\n",
      "第 1 条线 第 63 个点 共 3 条线 每条线 100 个点\n",
      "第 1 条线 第 64 个点 共 3 条线 每条线 100 个点\n",
      "第 1 条线 第 65 个点 共 3 条线 每条线 100 个点\n",
      "第 1 条线 第 66 个点 共 3 条线 每条线 100 个点\n",
      "第 1 条线 第 67 个点 共 3 条线 每条线 100 个点\n",
      "第 1 条线 第 68 个点 共 3 条线 每条线 100 个点\n",
      "第 1 条线 第 69 个点 共 3 条线 每条线 100 个点\n",
      "第 1 条线 第 70 个点 共 3 条线 每条线 100 个点\n",
      "第 1 条线 第 71 个点 共 3 条线 每条线 100 个点\n",
      "第 1 条线 第 72 个点 共 3 条线 每条线 100 个点\n",
      "第 1 条线 第 73 个点 共 3 条线 每条线 100 个点\n",
      "第 1 条线 第 74 个点 共 3 条线 每条线 100 个点\n",
      "第 1 条线 第 75 个点 共 3 条线 每条线 100 个点\n",
      "第 1 条线 第 76 个点 共 3 条线 每条线 100 个点\n",
      "第 1 条线 第 77 个点 共 3 条线 每条线 100 个点\n",
      "第 1 条线 第 78 个点 共 3 条线 每条线 100 个点\n",
      "第 1 条线 第 79 个点 共 3 条线 每条线 100 个点\n",
      "第 1 条线 第 80 个点 共 3 条线 每条线 100 个点\n",
      "第 1 条线 第 81 个点 共 3 条线 每条线 100 个点\n",
      "第 1 条线 第 82 个点 共 3 条线 每条线 100 个点\n",
      "第 1 条线 第 83 个点 共 3 条线 每条线 100 个点\n",
      "第 1 条线 第 84 个点 共 3 条线 每条线 100 个点\n",
      "第 1 条线 第 85 个点 共 3 条线 每条线 100 个点\n",
      "第 1 条线 第 86 个点 共 3 条线 每条线 100 个点\n",
      "第 1 条线 第 87 个点 共 3 条线 每条线 100 个点\n",
      "第 1 条线 第 88 个点 共 3 条线 每条线 100 个点\n",
      "第 1 条线 第 89 个点 共 3 条线 每条线 100 个点\n",
      "第 1 条线 第 90 个点 共 3 条线 每条线 100 个点\n",
      "第 1 条线 第 91 个点 共 3 条线 每条线 100 个点\n",
      "第 1 条线 第 92 个点 共 3 条线 每条线 100 个点\n",
      "第 1 条线 第 93 个点 共 3 条线 每条线 100 个点\n",
      "第 1 条线 第 94 个点 共 3 条线 每条线 100 个点\n",
      "第 1 条线 第 95 个点 共 3 条线 每条线 100 个点\n",
      "第 1 条线 第 96 个点 共 3 条线 每条线 100 个点\n",
      "第 1 条线 第 97 个点 共 3 条线 每条线 100 个点\n",
      "第 1 条线 第 98 个点 共 3 条线 每条线 100 个点\n",
      "第 1 条线 第 99 个点 共 3 条线 每条线 100 个点\n",
      "第 1 条线 第 100 个点 共 3 条线 每条线 100 个点\n",
      "第 2 条线 第 1 个点 共 3 条线 每条线 100 个点\n",
      "第 2 条线 第 2 个点 共 3 条线 每条线 100 个点\n",
      "第 2 条线 第 3 个点 共 3 条线 每条线 100 个点\n",
      "第 2 条线 第 4 个点 共 3 条线 每条线 100 个点\n",
      "第 2 条线 第 5 个点 共 3 条线 每条线 100 个点\n",
      "第 2 条线 第 6 个点 共 3 条线 每条线 100 个点\n",
      "第 2 条线 第 7 个点 共 3 条线 每条线 100 个点\n",
      "第 2 条线 第 8 个点 共 3 条线 每条线 100 个点\n",
      "第 2 条线 第 9 个点 共 3 条线 每条线 100 个点\n",
      "第 2 条线 第 10 个点 共 3 条线 每条线 100 个点\n",
      "第 2 条线 第 11 个点 共 3 条线 每条线 100 个点\n",
      "第 2 条线 第 12 个点 共 3 条线 每条线 100 个点\n",
      "第 2 条线 第 13 个点 共 3 条线 每条线 100 个点\n",
      "第 2 条线 第 14 个点 共 3 条线 每条线 100 个点\n",
      "第 2 条线 第 15 个点 共 3 条线 每条线 100 个点\n",
      "第 2 条线 第 16 个点 共 3 条线 每条线 100 个点\n",
      "第 2 条线 第 17 个点 共 3 条线 每条线 100 个点\n",
      "第 2 条线 第 18 个点 共 3 条线 每条线 100 个点\n",
      "第 2 条线 第 19 个点 共 3 条线 每条线 100 个点\n",
      "第 2 条线 第 20 个点 共 3 条线 每条线 100 个点\n",
      "第 2 条线 第 21 个点 共 3 条线 每条线 100 个点\n",
      "第 2 条线 第 22 个点 共 3 条线 每条线 100 个点\n",
      "第 2 条线 第 23 个点 共 3 条线 每条线 100 个点\n",
      "第 2 条线 第 24 个点 共 3 条线 每条线 100 个点\n",
      "第 2 条线 第 25 个点 共 3 条线 每条线 100 个点\n",
      "第 2 条线 第 26 个点 共 3 条线 每条线 100 个点\n",
      "第 2 条线 第 27 个点 共 3 条线 每条线 100 个点\n",
      "第 2 条线 第 28 个点 共 3 条线 每条线 100 个点\n",
      "第 2 条线 第 29 个点 共 3 条线 每条线 100 个点\n",
      "第 2 条线 第 30 个点 共 3 条线 每条线 100 个点\n",
      "第 2 条线 第 31 个点 共 3 条线 每条线 100 个点\n",
      "第 2 条线 第 32 个点 共 3 条线 每条线 100 个点\n",
      "第 2 条线 第 33 个点 共 3 条线 每条线 100 个点\n",
      "第 2 条线 第 34 个点 共 3 条线 每条线 100 个点\n",
      "第 2 条线 第 35 个点 共 3 条线 每条线 100 个点\n",
      "第 2 条线 第 36 个点 共 3 条线 每条线 100 个点\n",
      "第 2 条线 第 37 个点 共 3 条线 每条线 100 个点\n",
      "第 2 条线 第 38 个点 共 3 条线 每条线 100 个点\n",
      "第 2 条线 第 39 个点 共 3 条线 每条线 100 个点\n",
      "第 2 条线 第 40 个点 共 3 条线 每条线 100 个点\n",
      "第 2 条线 第 41 个点 共 3 条线 每条线 100 个点\n",
      "第 2 条线 第 42 个点 共 3 条线 每条线 100 个点\n",
      "第 2 条线 第 43 个点 共 3 条线 每条线 100 个点\n",
      "第 2 条线 第 44 个点 共 3 条线 每条线 100 个点\n",
      "第 2 条线 第 45 个点 共 3 条线 每条线 100 个点\n",
      "第 2 条线 第 46 个点 共 3 条线 每条线 100 个点\n",
      "第 2 条线 第 47 个点 共 3 条线 每条线 100 个点\n",
      "第 2 条线 第 48 个点 共 3 条线 每条线 100 个点\n",
      "第 2 条线 第 49 个点 共 3 条线 每条线 100 个点\n",
      "第 2 条线 第 50 个点 共 3 条线 每条线 100 个点\n",
      "第 2 条线 第 51 个点 共 3 条线 每条线 100 个点\n",
      "第 2 条线 第 52 个点 共 3 条线 每条线 100 个点\n",
      "第 2 条线 第 53 个点 共 3 条线 每条线 100 个点\n",
      "第 2 条线 第 54 个点 共 3 条线 每条线 100 个点\n",
      "第 2 条线 第 55 个点 共 3 条线 每条线 100 个点\n",
      "第 2 条线 第 56 个点 共 3 条线 每条线 100 个点\n",
      "第 2 条线 第 57 个点 共 3 条线 每条线 100 个点\n",
      "第 2 条线 第 58 个点 共 3 条线 每条线 100 个点\n",
      "第 2 条线 第 59 个点 共 3 条线 每条线 100 个点\n",
      "第 2 条线 第 60 个点 共 3 条线 每条线 100 个点\n",
      "第 2 条线 第 61 个点 共 3 条线 每条线 100 个点\n",
      "第 2 条线 第 62 个点 共 3 条线 每条线 100 个点\n",
      "第 2 条线 第 63 个点 共 3 条线 每条线 100 个点\n",
      "第 2 条线 第 64 个点 共 3 条线 每条线 100 个点\n",
      "第 2 条线 第 65 个点 共 3 条线 每条线 100 个点\n",
      "第 2 条线 第 66 个点 共 3 条线 每条线 100 个点\n",
      "第 2 条线 第 67 个点 共 3 条线 每条线 100 个点\n",
      "第 2 条线 第 68 个点 共 3 条线 每条线 100 个点\n",
      "第 2 条线 第 69 个点 共 3 条线 每条线 100 个点\n",
      "第 2 条线 第 70 个点 共 3 条线 每条线 100 个点\n",
      "第 2 条线 第 71 个点 共 3 条线 每条线 100 个点\n",
      "第 2 条线 第 72 个点 共 3 条线 每条线 100 个点\n",
      "第 2 条线 第 73 个点 共 3 条线 每条线 100 个点\n",
      "第 2 条线 第 74 个点 共 3 条线 每条线 100 个点\n",
      "第 2 条线 第 75 个点 共 3 条线 每条线 100 个点\n",
      "第 2 条线 第 76 个点 共 3 条线 每条线 100 个点\n",
      "第 2 条线 第 77 个点 共 3 条线 每条线 100 个点\n",
      "第 2 条线 第 78 个点 共 3 条线 每条线 100 个点\n",
      "第 2 条线 第 79 个点 共 3 条线 每条线 100 个点\n",
      "第 2 条线 第 80 个点 共 3 条线 每条线 100 个点\n",
      "第 2 条线 第 81 个点 共 3 条线 每条线 100 个点\n",
      "第 2 条线 第 82 个点 共 3 条线 每条线 100 个点\n",
      "第 2 条线 第 83 个点 共 3 条线 每条线 100 个点\n",
      "第 2 条线 第 84 个点 共 3 条线 每条线 100 个点\n",
      "第 2 条线 第 85 个点 共 3 条线 每条线 100 个点\n",
      "第 2 条线 第 86 个点 共 3 条线 每条线 100 个点\n",
      "第 2 条线 第 87 个点 共 3 条线 每条线 100 个点\n",
      "第 2 条线 第 88 个点 共 3 条线 每条线 100 个点\n",
      "第 2 条线 第 89 个点 共 3 条线 每条线 100 个点\n",
      "第 2 条线 第 90 个点 共 3 条线 每条线 100 个点\n",
      "第 2 条线 第 91 个点 共 3 条线 每条线 100 个点\n",
      "第 2 条线 第 92 个点 共 3 条线 每条线 100 个点\n",
      "第 2 条线 第 93 个点 共 3 条线 每条线 100 个点\n",
      "第 2 条线 第 94 个点 共 3 条线 每条线 100 个点\n",
      "第 2 条线 第 95 个点 共 3 条线 每条线 100 个点\n",
      "第 2 条线 第 96 个点 共 3 条线 每条线 100 个点\n",
      "第 2 条线 第 97 个点 共 3 条线 每条线 100 个点\n",
      "第 2 条线 第 98 个点 共 3 条线 每条线 100 个点\n",
      "第 2 条线 第 99 个点 共 3 条线 每条线 100 个点\n",
      "第 2 条线 第 100 个点 共 3 条线 每条线 100 个点\n",
      "第 3 条线 第 1 个点 共 3 条线 每条线 100 个点\n",
      "第 3 条线 第 2 个点 共 3 条线 每条线 100 个点\n",
      "第 3 条线 第 3 个点 共 3 条线 每条线 100 个点\n",
      "第 3 条线 第 4 个点 共 3 条线 每条线 100 个点\n",
      "第 3 条线 第 5 个点 共 3 条线 每条线 100 个点\n",
      "第 3 条线 第 6 个点 共 3 条线 每条线 100 个点\n",
      "第 3 条线 第 7 个点 共 3 条线 每条线 100 个点\n",
      "第 3 条线 第 8 个点 共 3 条线 每条线 100 个点\n",
      "第 3 条线 第 9 个点 共 3 条线 每条线 100 个点\n",
      "第 3 条线 第 10 个点 共 3 条线 每条线 100 个点\n",
      "第 3 条线 第 11 个点 共 3 条线 每条线 100 个点\n",
      "第 3 条线 第 12 个点 共 3 条线 每条线 100 个点\n",
      "第 3 条线 第 13 个点 共 3 条线 每条线 100 个点\n",
      "第 3 条线 第 14 个点 共 3 条线 每条线 100 个点\n",
      "第 3 条线 第 15 个点 共 3 条线 每条线 100 个点\n",
      "第 3 条线 第 16 个点 共 3 条线 每条线 100 个点\n",
      "第 3 条线 第 17 个点 共 3 条线 每条线 100 个点\n",
      "第 3 条线 第 18 个点 共 3 条线 每条线 100 个点\n",
      "第 3 条线 第 19 个点 共 3 条线 每条线 100 个点\n",
      "第 3 条线 第 20 个点 共 3 条线 每条线 100 个点\n",
      "第 3 条线 第 21 个点 共 3 条线 每条线 100 个点\n",
      "第 3 条线 第 22 个点 共 3 条线 每条线 100 个点\n",
      "第 3 条线 第 23 个点 共 3 条线 每条线 100 个点\n",
      "第 3 条线 第 24 个点 共 3 条线 每条线 100 个点\n",
      "第 3 条线 第 25 个点 共 3 条线 每条线 100 个点\n",
      "第 3 条线 第 26 个点 共 3 条线 每条线 100 个点\n",
      "第 3 条线 第 27 个点 共 3 条线 每条线 100 个点\n",
      "第 3 条线 第 28 个点 共 3 条线 每条线 100 个点\n",
      "第 3 条线 第 29 个点 共 3 条线 每条线 100 个点\n",
      "第 3 条线 第 30 个点 共 3 条线 每条线 100 个点\n",
      "第 3 条线 第 31 个点 共 3 条线 每条线 100 个点\n",
      "第 3 条线 第 32 个点 共 3 条线 每条线 100 个点\n",
      "第 3 条线 第 33 个点 共 3 条线 每条线 100 个点\n",
      "第 3 条线 第 34 个点 共 3 条线 每条线 100 个点\n",
      "第 3 条线 第 35 个点 共 3 条线 每条线 100 个点\n",
      "第 3 条线 第 36 个点 共 3 条线 每条线 100 个点\n",
      "第 3 条线 第 37 个点 共 3 条线 每条线 100 个点\n",
      "第 3 条线 第 38 个点 共 3 条线 每条线 100 个点\n",
      "第 3 条线 第 39 个点 共 3 条线 每条线 100 个点\n",
      "第 3 条线 第 40 个点 共 3 条线 每条线 100 个点\n",
      "第 3 条线 第 41 个点 共 3 条线 每条线 100 个点\n",
      "第 3 条线 第 42 个点 共 3 条线 每条线 100 个点\n",
      "第 3 条线 第 43 个点 共 3 条线 每条线 100 个点\n",
      "第 3 条线 第 44 个点 共 3 条线 每条线 100 个点\n",
      "第 3 条线 第 45 个点 共 3 条线 每条线 100 个点\n",
      "第 3 条线 第 46 个点 共 3 条线 每条线 100 个点\n",
      "第 3 条线 第 47 个点 共 3 条线 每条线 100 个点\n",
      "第 3 条线 第 48 个点 共 3 条线 每条线 100 个点\n",
      "第 3 条线 第 49 个点 共 3 条线 每条线 100 个点\n",
      "第 3 条线 第 50 个点 共 3 条线 每条线 100 个点\n",
      "第 3 条线 第 51 个点 共 3 条线 每条线 100 个点\n",
      "第 3 条线 第 52 个点 共 3 条线 每条线 100 个点\n",
      "第 3 条线 第 53 个点 共 3 条线 每条线 100 个点\n",
      "第 3 条线 第 54 个点 共 3 条线 每条线 100 个点\n",
      "第 3 条线 第 55 个点 共 3 条线 每条线 100 个点\n",
      "第 3 条线 第 56 个点 共 3 条线 每条线 100 个点\n",
      "第 3 条线 第 57 个点 共 3 条线 每条线 100 个点\n",
      "第 3 条线 第 58 个点 共 3 条线 每条线 100 个点\n",
      "第 3 条线 第 59 个点 共 3 条线 每条线 100 个点\n",
      "第 3 条线 第 60 个点 共 3 条线 每条线 100 个点\n",
      "第 3 条线 第 61 个点 共 3 条线 每条线 100 个点\n",
      "第 3 条线 第 62 个点 共 3 条线 每条线 100 个点\n",
      "第 3 条线 第 63 个点 共 3 条线 每条线 100 个点\n",
      "第 3 条线 第 64 个点 共 3 条线 每条线 100 个点\n",
      "第 3 条线 第 65 个点 共 3 条线 每条线 100 个点\n",
      "第 3 条线 第 66 个点 共 3 条线 每条线 100 个点\n"
     ]
    },
    {
     "name": "stdout",
     "output_type": "stream",
     "text": [
      "第 3 条线 第 67 个点 共 3 条线 每条线 100 个点\n",
      "第 3 条线 第 68 个点 共 3 条线 每条线 100 个点\n",
      "第 3 条线 第 69 个点 共 3 条线 每条线 100 个点\n",
      "第 3 条线 第 70 个点 共 3 条线 每条线 100 个点\n",
      "第 3 条线 第 71 个点 共 3 条线 每条线 100 个点\n",
      "第 3 条线 第 72 个点 共 3 条线 每条线 100 个点\n",
      "第 3 条线 第 73 个点 共 3 条线 每条线 100 个点\n",
      "第 3 条线 第 74 个点 共 3 条线 每条线 100 个点\n",
      "第 3 条线 第 75 个点 共 3 条线 每条线 100 个点\n",
      "第 3 条线 第 76 个点 共 3 条线 每条线 100 个点\n",
      "第 3 条线 第 77 个点 共 3 条线 每条线 100 个点\n",
      "第 3 条线 第 78 个点 共 3 条线 每条线 100 个点\n",
      "第 3 条线 第 79 个点 共 3 条线 每条线 100 个点\n",
      "第 3 条线 第 80 个点 共 3 条线 每条线 100 个点\n",
      "第 3 条线 第 81 个点 共 3 条线 每条线 100 个点\n",
      "第 3 条线 第 82 个点 共 3 条线 每条线 100 个点\n",
      "第 3 条线 第 83 个点 共 3 条线 每条线 100 个点\n",
      "第 3 条线 第 84 个点 共 3 条线 每条线 100 个点\n",
      "第 3 条线 第 85 个点 共 3 条线 每条线 100 个点\n",
      "第 3 条线 第 86 个点 共 3 条线 每条线 100 个点\n",
      "第 3 条线 第 87 个点 共 3 条线 每条线 100 个点\n",
      "第 3 条线 第 88 个点 共 3 条线 每条线 100 个点\n",
      "第 3 条线 第 89 个点 共 3 条线 每条线 100 个点\n",
      "第 3 条线 第 90 个点 共 3 条线 每条线 100 个点\n",
      "第 3 条线 第 91 个点 共 3 条线 每条线 100 个点\n",
      "第 3 条线 第 92 个点 共 3 条线 每条线 100 个点\n",
      "第 3 条线 第 93 个点 共 3 条线 每条线 100 个点\n",
      "第 3 条线 第 94 个点 共 3 条线 每条线 100 个点\n",
      "第 3 条线 第 95 个点 共 3 条线 每条线 100 个点\n",
      "第 3 条线 第 96 个点 共 3 条线 每条线 100 个点\n",
      "第 3 条线 第 97 个点 共 3 条线 每条线 100 个点\n",
      "第 3 条线 第 98 个点 共 3 条线 每条线 100 个点\n",
      "第 3 条线 第 99 个点 共 3 条线 每条线 100 个点\n",
      "第 3 条线 第 100 个点 共 3 条线 每条线 100 个点\n"
     ]
    },
    {
     "data": {
      "text/plain": [
       "<Figure size 640x480 with 1 Axes>"
      ]
     },
     "metadata": {},
     "output_type": "display_data"
    }
   ],
   "source": [
    "import numpy as np\n",
    "from matplotlib import pyplot as plt\n",
    "from scipy import integrate\n",
    "\n",
    "er = 1e-2\n",
    "\n",
    "#k = np.linspace(er,1,N)\n",
    "\n",
    "from scipy.special import roots_legendre as leg\n",
    "def gauquad(f,a,b,n = 10):\n",
    "    ft = lambda t: f( (b-a)*t/2 +(a+b)/2 ) * (b-a)/2\n",
    "    x, w = leg(n)\n",
    "    I = 0\n",
    "    for i in range(n):\n",
    "        I = I + w[i]*ft(x[i])\n",
    "    err = 0\n",
    "    return I,err\n",
    "def twovarplt(f,ax,bx,ay,by,Nx=100,Ny=10,gap = 2):\n",
    "    '''\n",
    "    两变量画图\n",
    "    f(x,y): 要绘制的函数\n",
    "    变量 x 的取值区间为 [ax,bx], 取点的个数为 Nx 个\n",
    "    变量 y 的取值区间为 [bx,bx], 画 Ny 条线, 每条线对应一个 y 值\n",
    "    线与线之间的间隔为 gap\n",
    "    '''\n",
    "    x = np.linspace(ax,bx,Nx)\n",
    "    y = np.linspace(ay,by,Ny)\n",
    "    fx = np.linspace(0,0,Nx)\n",
    "    for j in range(Ny):\n",
    "        for i in range(Nx):\n",
    "            print('第',j+1,'条线','第',i+1,'个点','共',Ny,'条线','每条线',Nx,'个点')\n",
    "            fx[i] = f(x[i],y[j])\n",
    "        plt.plot(x,fx+j*gap)\n",
    "    plt.show()\n",
    "\n",
    "\n",
    "\n",
    "def delta(x):\n",
    "    b = .0001\n",
    "    f = b/(b**2 + x**2)/np.pi\n",
    "    return f\n",
    "def s(o,d,k,p):\n",
    "    s = p/k*( np.log( np.abs(o-d + (k+p)**2/2) ) - np.log( np.abs(o-d + (k-p)**2/2) ) )\n",
    "    return s\n",
    "def S(o,d,k):\n",
    "    S,err = gauquad(lambda p:s(o,d,k,p),er,1)\n",
    "    return S\n",
    "\n",
    "\n",
    "def I(o,d,k):\n",
    "    I = k**2*delta(o-S(o,d,k))\n",
    "    return I\n",
    "def II(o,d):\n",
    "    II,err = gauquad(lambda k:I(o,d,k),er,1)\n",
    "    return II\n",
    "\n",
    "\n",
    "twovarplt(II,-2,2,-8,0,100,3)\n",
    "\n"
   ]
  },
  {
   "cell_type": "code",
   "execution_count": 84,
   "metadata": {},
   "outputs": [
    {
     "data": {
      "image/png": "[encoded data removed]",
      "text/plain": [
       "<Figure size 432x288 with 1 Axes>"
      ]
     },
     "metadata": {
      "needs_background": "light"
     },
     "output_type": "display_data"
    },
    {
     "name": "stdout",
     "output_type": "stream",
     "text": [
      "[0.         0.6981317  1.3962634  2.0943951  2.7925268  3.4906585\n",
      " 4.1887902  4.88692191 5.58505361 6.28318531]\n"
     ]
    }
   ],
   "source": [
    "def twovarplt(f,ax,bx,ay,by,Nx=100,Ny=10,gap = 2):\n",
    "    '''\n",
    "    两变量画图\n",
    "    f(x,y): 要绘制的函数\n",
    "    变量 x 的取值区间为 [ax,bx], 取点的个数为 Nx 个\n",
    "    变量 y 的取值区间为 [bx,bx], 画 Ny 条线, 每条线对应一个 y 值\n",
    "    线与线之间的间隔为 gap\n",
    "    '''\n",
    "    x = np.linspace(ax,bx,Nx)\n",
    "    y = np.linspace(ay,by,Ny)\n",
    "    fx = np.linspace(0,0,Nx)\n",
    "    for j in range(Ny):\n",
    "        for i in range(Nx):\n",
    "            fx[i] = f(x[i],y[j])\n",
    "        plt.plot(x,fx+j*gap)\n",
    "    plt.show()\n",
    "    print(y)\n",
    "def f(x,y):\n",
    "    return np.sin(x+y)\n",
    "\n",
    "twovarplt(f,0,2*np.pi,0,2*np.pi)"
   ]
  },
  {
   "cell_type": "code",
   "execution_count": 58,
   "metadata": {},
   "outputs": [
    {
     "data": {
      "text/plain": [
       "1.9610531720212474"
      ]
     },
     "execution_count": 58,
     "metadata": {},
     "output_type": "execute_result"
    }
   ],
   "source": [
    "f(1.3,1.5)"
   ]
  },
  {
   "cell_type": "code",
   "execution_count": 47,
   "metadata": {},
   "outputs": [
    {
     "name": "stderr",
     "output_type": "stream",
     "text": [
      "/usr/lib/python3.7/site-packages/ipykernel_launcher.py:10: RuntimeWarning: invalid value encountered in sqrt\n",
      "  # Remove the CWD from sys.path while we load stuff.\n",
      "/usr/lib/python3.7/site-packages/ipykernel_launcher.py:11: RuntimeWarning: invalid value encountered in sqrt\n",
      "  # This is added back by InteractiveShellApp.init_path()\n"
     ]
    },
    {
     "data": {
      "text/plain": [
       "0.0"
      ]
     },
     "execution_count": 47,
     "metadata": {},
     "output_type": "execute_result"
    }
   ],
   "source": [
    "def theta(x):\n",
    "    if x>=0:\n",
    "        f = 1\n",
    "    else:\n",
    "        f = 0\n",
    "    return f\n",
    "\n",
    "def A(o,d,k,x):\n",
    "    g = o-d+k**2/2\n",
    "    r1 = k*x + np.sqrt( k**2*x**2 -2*g )\n",
    "    r2 = k*x - np.sqrt( k**2*x**2 -2*g )\n",
    "    A = theta(-g)*theta(1+2*g-2*k*x)*r1**2\n",
    "    A = A+ theta(g)*theta(k*x-np.sqrt(2*g))*theta(x) * ( theta(1+2*g-2*k*x)*r1**2 + r2**2)\n",
    "    A = A/(r1-r2)\n",
    "    return A\n",
    "def AA(o,d,k):\n",
    "    AA, err = gauquad(lambda x:A(o,d,k,x),-1,1)\n",
    "    AA = np.nan_to_num(AA)\n",
    "    return AA\n",
    "\n",
    "\n",
    "\n",
    "AA(1,15,7)            "
   ]
  },
  {
   "cell_type": "code",
   "execution_count": 14,
   "metadata": {},
   "outputs": [
    {
     "data": {
      "text/plain": [
       "(0.6666666666666667, 7.401486830834377e-15)"
      ]
     },
     "execution_count": 14,
     "metadata": {},
     "output_type": "execute_result"
    }
   ],
   "source": [
    "from scipy import integrate\n",
    "f = lambda y, x: x*y**2\n",
    "integrate.dblquad(f, 0, 2, lambda x: 0, lambda x: 1)"
   ]
  },
  {
   "cell_type": "code",
   "execution_count": 42,
   "metadata": {},
   "outputs": [
    {
     "name": "stdout",
     "output_type": "stream",
     "text": [
      "1.7320508075688772\n"
     ]
    }
   ],
   "source": [
    "a = np.sqrt(3)\n",
    "a = np.nan_to_num(a)\n",
    "print(a)"
   ]
  },
  {
   "cell_type": "code",
   "execution_count": 26,
   "metadata": {},
   "outputs": [
    {
     "name": "stderr",
     "output_type": "stream",
     "text": [
      "/usr/lib/python3.7/site-packages/ipykernel_launcher.py:1: RuntimeWarning: invalid value encountered in sqrt\n",
      "  \"\"\"Entry point for launching an IPython kernel.\n"
     ]
    },
    {
     "data": {
      "text/plain": [
       "numpy.float64"
      ]
     },
     "execution_count": 26,
     "metadata": {},
     "output_type": "execute_result"
    }
   ],
   "source": [
    "type(np.sqrt(-1))"
   ]
  },
  {
   "cell_type": "code",
   "execution_count": 27,
   "metadata": {},
   "outputs": [
    {
     "name": "stderr",
     "output_type": "stream",
     "text": [
      "/usr/lib/python3.7/site-packages/ipykernel_launcher.py:1: RuntimeWarning: invalid value encountered in sqrt\n",
      "  \"\"\"Entry point for launching an IPython kernel.\n"
     ]
    },
    {
     "data": {
      "text/plain": [
       "nan"
      ]
     },
     "execution_count": 27,
     "metadata": {},
     "output_type": "execute_result"
    }
   ],
   "source": [
    "np.sqrt(-1)"
   ]
  },
  {
   "cell_type": "code",
   "execution_count": 40,
   "metadata": {},
   "outputs": [
    {
     "data": {
      "text/plain": [
       "1"
      ]
     },
     "execution_count": 40,
     "metadata": {},
     "output_type": "execute_result"
    }
   ],
   "source": [
    "np.nan_to_num(1)"
   ]
  },
  {
   "cell_type": "code",
   "execution_count": 46,
   "metadata": {},
   "outputs": [
    {
     "data": {
      "text/plain": [
       "nan"
      ]
     },
     "execution_count": 46,
     "metadata": {},
     "output_type": "execute_result"
    }
   ],
   "source": [
    "0*np.nan"
   ]
  },
  {
   "cell_type": "code",
   "execution_count": 51,
   "metadata": {},
   "outputs": [
    {
     "name": "stderr",
     "output_type": "stream",
     "text": [
      "/usr/lib/python3.7/site-packages/ipykernel_launcher.py:2: RuntimeWarning: overflow encountered in exp\n",
      "  \n"
     ]
    },
    {
     "data": {
      "text/plain": [
       "0.0"
      ]
     },
     "execution_count": 51,
     "metadata": {},
     "output_type": "execute_result"
    }
   ],
   "source": [
    "def f(p,m,T):   # Fermi distribution function\n",
    "    return 1/(np.exp((p**2-m)/T)+1)\n",
    "f(5,2,1e-6)"
   ]
  },
  {
   "cell_type": "code",
   "execution_count": 60,
   "metadata": {},
   "outputs": [
    {
     "data": {
      "image/png": "[encoded data removed]",
      "text/plain": [
       "<Figure size 432x288 with 1 Axes>"
      ]
     },
     "metadata": {
      "needs_background": "light"
     },
     "output_type": "display_data"
    }
   ],
   "source": [
    "def f(p,m,T):   # Fermi distribution function\n",
    "    f = 1/(np.exp((p**2-m)/T)+1)\n",
    "    return f\n",
    "p = np.linspace(0,10,1000)\n",
    "ff = np.linspace(0,10,1000)\n",
    "for i in range(1000):\n",
    "    ff[i]=f(p[i],1,2) \n",
    "plt.plot(p,ff)\n",
    "plt.show()"
   ]
  },
  {
   "cell_type": "code",
   "execution_count": 86,
   "metadata": {},
   "outputs": [
    {
     "data": {
      "image/png": "[encoded data removed]",
      "text/plain": [
       "<Figure size 432x288 with 1 Axes>"
      ]
     },
     "metadata": {
      "needs_background": "light"
     },
     "output_type": "display_data"
    }
   ],
   "source": [
    "x = np.linspace(0,8,100)\n",
    "y = np.sin(x)\n",
    "N = 10\n",
    "for i in range(N):\n",
    "    plt.plot(x,y+i,color=(i/N,1-i/N,i/N))\n",
    "plt.show()"
   ]
  },
  {
   "cell_type": "code",
   "execution_count": null,
   "metadata": {},
   "outputs": [],
   "source": []
  }
 ],
 "metadata": {
  "kernelspec": {
   "display_name": "Python 3",
   "language": "python",
   "name": "python3"
  },
  "language_info": {
   "codemirror_mode": {
    "name": "ipython",
    "version": 3
   },
   "file_extension": ".py",
   "mimetype": "text/x-python",
   "name": "python",
   "nbconvert_exporter": "python",
   "pygments_lexer": "ipython3",
   "version": "3.7.2"
  }
 },
 "nbformat": 4,
 "nbformat_minor": 2
}
