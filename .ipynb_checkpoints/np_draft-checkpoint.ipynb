{
 "cells": [
  {
   "cell_type": "code",
   "execution_count": 64,
   "metadata": {},
   "outputs": [
    {
     "data": {
      "image/png": "[encoded data removed]",
      "text/plain": [
       "<Figure size 432x288 with 1 Axes>"
      ]
     },
     "metadata": {
      "needs_background": "light"
     },
     "output_type": "display_data"
    }
   ],
   "source": [
    "import numpy as np\n",
    "import sympy as sym\n",
    "from matplotlib import pyplot as plt\n",
    "\n",
    "a = 400000\n",
    "\n",
    "def H(B):\n",
    "    c = 4000*B\n",
    "    d = 4*B\n",
    "\n",
    "    H = np.zeros([8,8])\n",
    "\n",
    "    H[0,0] =  3/4*a +  1/2*c +  3/2*d\n",
    "    H[7,7] =  3/4*a -  1/2*c -  3/2*d\n",
    "\n",
    "    H[1,1] =  1/4*a +  1/2*c +  1/2*d\n",
    "    H[2,2] = -3/4*a -  1/2*c +  3/2*d\n",
    "    H[1,2] =  np.sqrt(3)/2*a\n",
    "    H[2,1] = H[1,2]\n",
    "\n",
    "    H[3,3] = -1/4*a +  1/2*c -  1/2*d\n",
    "    H[4,4] = -1/4*a -  1/2*c +  1/2*d\n",
    "    H[3,4] =  a\n",
    "    H[4,3] = H[3,4]\n",
    "\n",
    "    H[5,5] = -3/4*a +  1/2*c -  3/2*d\n",
    "    H[6,6] =  1/4*a -  1/2*c -  1/2*d\n",
    "    H[5,6] =  np.sqrt(3)/2*a\n",
    "    H[6,5] = H[5,6]\n",
    "#    np.set_printoptions(precision=1)\n",
    "    [x,y] = np.linalg.eig(H)\n",
    "    return x\n",
    "\n",
    "\n",
    "\n",
    "N = 20\n",
    "b = np.linspace(0,30,N)\n",
    "#E = np.linspace(0,10,N)\n",
    "E = np.zeros([8,N])\n",
    "for i in range(8):    \n",
    "    for j in range(N):\n",
    "        E[i,j] = H(b[j])[i]\n",
    "    plt.plot(b,E[i])\n",
    "\n",
    "\n",
    "\n",
    "plt.show()\n",
    "\n",
    "\n",
    "\n"
   ]
  },
  {
   "cell_type": "code",
   "execution_count": null,
   "metadata": {},
   "outputs": [],
   "source": []
  },
  {
   "cell_type": "code",
   "execution_count": null,
   "metadata": {},
   "outputs": [],
   "source": []
  }
 ],
 "metadata": {
  "kernelspec": {
   "display_name": "Python 3",
   "language": "python",
   "name": "python3"
  },
  "language_info": {
   "codemirror_mode": {
    "name": "ipython",
    "version": 3
   },
   "file_extension": ".py",
   "mimetype": "text/x-python",
   "name": "python",
   "nbconvert_exporter": "python",
   "pygments_lexer": "ipython3",
   "version": "3.7.2"
  }
 },
 "nbformat": 4,
 "nbformat_minor": 2
}
