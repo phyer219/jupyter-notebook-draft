{
 "cells": [
  {
   "cell_type": "code",
   "execution_count": 10,
   "metadata": {},
   "outputs": [
    {
     "name": "stdout",
     "output_type": "stream",
     "text": [
      "589.5918094519844 594.6526364103064 6.601970485967738e-12\n"
     ]
    }
   ],
   "source": [
    "import numpy as np\n",
    "from scipy.special import roots_legendre as leg\n",
    "from scipy import integrate\n",
    "#scipy.special.roots_legendre\n",
    "\n",
    "def gauquad(f,a,b,n = 3):\n",
    "    ft = lambda t: f( (b-a)*t/2 +(a+b)/2 ) * (b-a)/2\n",
    "    x, w = leg(n)\n",
    "    I = 0\n",
    "    for i in range(n):\n",
    "        I = I + w[i]*ft(x[i])\n",
    "    return I\n",
    "\n",
    "f = lambda x: x*np.exp(x)    \n",
    "a = 0\n",
    "b = 5\n",
    "\n",
    "Ig = gauquad(f,a,b, n=3)\n",
    "Iq, err = integrate.quad(f,a,b)\n",
    "\n",
    "print(Ig,Iq,err)\n",
    "\n"
   ]
  },
  {
   "cell_type": "code",
   "execution_count": 29,
   "metadata": {},
   "outputs": [
    {
     "name": "stdout",
     "output_type": "stream",
     "text": [
      "[-0.77459667  0.          0.77459667]\n",
      "[0.55555556 0.88888889 0.55555556]\n"
     ]
    }
   ],
   "source": [
    "a,b = leg(3)\n",
    "print(a)\n",
    "print(b)"
   ]
  },
  {
   "cell_type": "code",
   "execution_count": 50,
   "metadata": {},
   "outputs": [
    {
     "data": {
      "text/plain": [
       "22026.41600773835"
      ]
     },
     "execution_count": 50,
     "metadata": {},
     "output_type": "execute_result"
    }
   ],
   "source": [
    "np.exp(10)-np.exp(-3)"
   ]
  },
  {
   "cell_type": "code",
   "execution_count": 22,
   "metadata": {},
   "outputs": [
    {
     "data": {
      "text/plain": [
       "1"
      ]
     },
     "execution_count": 22,
     "metadata": {},
     "output_type": "execute_result"
    }
   ],
   "source": [
    "g = lambda x: x\n",
    "g(1)"
   ]
  },
  {
   "cell_type": "code",
   "execution_count": null,
   "metadata": {},
   "outputs": [],
   "source": []
  }
 ],
 "metadata": {
  "kernelspec": {
   "display_name": "Python 3",
   "language": "python",
   "name": "python3"
  },
  "language_info": {
   "codemirror_mode": {
    "name": "ipython",
    "version": 3
   },
   "file_extension": ".py",
   "mimetype": "text/x-python",
   "name": "python",
   "nbconvert_exporter": "python",
   "pygments_lexer": "ipython3",
   "version": "3.7.2"
  }
 },
 "nbformat": 4,
 "nbformat_minor": 2
}
