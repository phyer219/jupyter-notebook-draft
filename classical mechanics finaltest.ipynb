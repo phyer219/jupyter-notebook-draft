{
 "cells": [
  {
   "cell_type": "code",
   "execution_count": 25,
   "metadata": {},
   "outputs": [
    {
     "name": "stdout",
     "output_type": "stream",
     "text": [
      "Matrix([[-b/(d + sqrt(b**2 + d**2)), -b/(d - sqrt(b**2 + d**2))], [1, 1]])\n",
      "Matrix([[a - sqrt(b**2 + d**2), 0], [0, a + sqrt(b**2 + d**2)]])\n"
     ]
    }
   ],
   "source": [
    "import sympy as sym\n",
    "a = sym.Symbol('a')\n",
    "b = sym.Symbol('b')\n",
    "d = sym.Symbol('d')\n",
    "m = sym.Matrix([[a+d,b],[b,a-d]])\n",
    "#v, d = m.diagonalize()\n",
    "p, d = m.diagonalize()\n",
    "print(p)\n",
    "print(d)"
   ]
  },
  {
   "cell_type": "code",
   "execution_count": null,
   "metadata": {},
   "outputs": [],
   "source": []
  }
 ],
 "metadata": {
  "kernelspec": {
   "display_name": "Python 3",
   "language": "python",
   "name": "python3"
  },
  "language_info": {
   "codemirror_mode": {
    "name": "ipython",
    "version": 3
   },
   "file_extension": ".py",
   "mimetype": "text/x-python",
   "name": "python",
   "nbconvert_exporter": "python",
   "pygments_lexer": "ipython3",
   "version": "3.7.1"
  }
 },
 "nbformat": 4,
 "nbformat_minor": 2
}
