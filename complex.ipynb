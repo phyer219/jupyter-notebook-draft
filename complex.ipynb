{
 "cells": [
  {
   "cell_type": "code",
   "execution_count": 42,
   "metadata": {},
   "outputs": [
    {
     "name": "stdout",
     "output_type": "stream",
     "text": [
      "25.3333333333333\n"
     ]
    }
   ],
   "source": [
    "import numpy as np\n",
    "t1 = np.arctan(4/3)\n",
    "t2 = np.arctan(-3/4)\n",
    "a = 500/3*(np.cos(3*t2)-np.cos(3*t1))+75/2*(np.sin(2*t2)-np.sin(2*t1))\n",
    "#a = 500/3*(np.cos(3*t2)-np.cos(3*t1))+75/2*(np.sin(2*t2)-np.sin(2*t1))\n",
    "print(a)"
   ]
  },
  {
   "cell_type": "code",
   "execution_count": 17,
   "metadata": {},
   "outputs": [
    {
     "data": {
      "text/plain": [
       "-4662.333333333334"
      ]
     },
     "execution_count": 17,
     "metadata": {},
     "output_type": "execute_result"
    }
   ],
   "source": [
    "(-192*37+56*7)/3-2425"
   ]
  },
  {
   "cell_type": "code",
   "execution_count": 18,
   "metadata": {},
   "outputs": [
    {
     "data": {
      "text/plain": [
       "0"
      ]
     },
     "execution_count": 18,
     "metadata": {},
     "output_type": "execute_result"
    }
   ],
   "source": [
    "1379-197*7"
   ]
  },
  {
   "cell_type": "code",
   "execution_count": 65,
   "metadata": {},
   "outputs": [
    {
     "data": {
      "text/plain": [
       "25.33333333333212"
      ]
     },
     "execution_count": 65,
     "metadata": {},
     "output_type": "execute_result"
    }
   ],
   "source": [
    "-584*37/3-2425+2758/2*7"
   ]
  },
  {
   "cell_type": "code",
   "execution_count": 21,
   "metadata": {},
   "outputs": [
    {
     "name": "stdout",
     "output_type": "stream",
     "text": [
      "(25.33333333333333-235.66666666666666j)\n"
     ]
    }
   ],
   "source": [
    "z1 = 3+4j\n",
    "z2 = 4-3j\n",
    "b = 4/3*(z2**3-z1**3)-3/2*1j*(z2**2-z1**2)\n",
    "print(b)"
   ]
  },
  {
   "cell_type": "code",
   "execution_count": 39,
   "metadata": {},
   "outputs": [
    {
     "name": "stdout",
     "output_type": "stream",
     "text": [
      "[-120.         +69.16666667j  -94.66666667-166.5j       ]\n",
      "(25.3333333333333-235.66666666666669j)\n"
     ]
    }
   ],
   "source": [
    "import numpy as np\n",
    "x = [np.arctan(4/3),np.arctan(-3/4)]\n",
    "x = np.linspace(np.arctan(4/3),np.arctan(-3/4),2)\n",
    "y = 500/3*np.exp(3j*x)-75j/2*np.exp(2j*x) \n",
    "c = y[1]-y[0]\n",
    "print(y)\n",
    "print(c)"
   ]
  },
  {
   "cell_type": "code",
   "execution_count": 27,
   "metadata": {},
   "outputs": [],
   "source": [
    "a =[1j,2]"
   ]
  },
  {
   "cell_type": "code",
   "execution_count": 63,
   "metadata": {},
   "outputs": [
    {
     "name": "stdout",
     "output_type": "stream",
     "text": [
      "-192.0*x**2 - 56.0*I*x**2 + 1379.0*x + 197.0*I*x - 2425.0\n"
     ]
    }
   ],
   "source": [
    "import sympy as sym\n",
    "x = sym.Symbol('x')\n",
    "y = -7*x+25\n",
    "z = x +1j*y\n",
    "\n",
    "f = 4*z**2-3j*z\n",
    "\n",
    "f1 = sym.expand(f)\n",
    "print(f1)\n",
    "#print(sym.latex(a1))"
   ]
  },
  {
   "cell_type": "code",
   "execution_count": null,
   "metadata": {},
   "outputs": [],
   "source": []
  }
 ],
 "metadata": {
  "kernelspec": {
   "display_name": "Python 3",
   "language": "python",
   "name": "python3"
  },
  "language_info": {
   "codemirror_mode": {
    "name": "ipython",
    "version": 3
   },
   "file_extension": ".py",
   "mimetype": "text/x-python",
   "name": "python",
   "nbconvert_exporter": "python",
   "pygments_lexer": "ipython3",
   "version": "3.7.1"
  }
 },
 "nbformat": 4,
 "nbformat_minor": 2
}
