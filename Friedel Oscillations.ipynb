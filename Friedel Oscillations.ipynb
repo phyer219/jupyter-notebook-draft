{
 "cells": [
  {
   "cell_type": "markdown",
   "metadata": {},
   "source": [
    "# 问题"
   ]
  },
  {
   "cell_type": "markdown",
   "metadata": {},
   "source": [
    "动量空间中电势为"
   ]
  },
  {
   "cell_type": "markdown",
   "metadata": {},
   "source": [
    "\\begin{align}\n",
    "\\varphi (\\vec{q})= \\frac{\\varphi_{ext(\\vec{q})}}{\\varepsilon(\\vec{q})}\n",
    "\\end{align}"
   ]
  },
  {
   "cell_type": "markdown",
   "metadata": {},
   "source": [
    "其中"
   ]
  },
  {
   "cell_type": "markdown",
   "metadata": {},
   "source": [
    "\\begin{align}\n",
    "\\varphi_{ext}(\\vec{q}) = \\frac{-e}{\\varepsilon_0 V q^2 }\n",
    "\\end{align}"
   ]
  },
  {
   "cell_type": "markdown",
   "metadata": {},
   "source": [
    "所以"
   ]
  },
  {
   "cell_type": "markdown",
   "metadata": {},
   "source": [
    "\\begin{equation}\n",
    "\\label{eq:1}\n",
    "\\varphi (\\vec{q})= \\frac{-e}{\\varepsilon_0 V q^2 {\\varepsilon(\\vec{q})}}\n",
    "\\end{equation}"
   ]
  },
  {
   "cell_type": "markdown",
   "metadata": {},
   "source": [
    "## Thomas-Fermi 近似的结果"
   ]
  },
  {
   "cell_type": "markdown",
   "metadata": {},
   "source": [
    "Thomas-Fermi 近似给出"
   ]
  },
  {
   "cell_type": "markdown",
   "metadata": {},
   "source": [
    "\\begin{align}\n",
    "\\varepsilon_{TF}(\\vec{q}) = 1 +\\frac{q_{TF}^2}{q^2}\n",
    "\\end{align}"
   ]
  },
  {
   "cell_type": "markdown",
   "metadata": {},
   "source": [
    "将上式代入 $\\varphi(\\vec{q})$ 有"
   ]
  },
  {
   "cell_type": "markdown",
   "metadata": {},
   "source": [
    "\\begin{equation}\n",
    "\\varphi (\\vec{q})= \\frac{-e}{\\varepsilon_0 V q^2 \\left(1 +\\frac{q_{TF}^2}{q^2}\\right)} \n",
    "=\\frac{-e}{\\varepsilon_0 V \\left(q^2 +q_{TF}^2\\right)} \n",
    "\\end{equation}"
   ]
  },
  {
   "cell_type": "markdown",
   "metadata": {},
   "source": [
    "对其 Fourier Transform"
   ]
  },
  {
   "cell_type": "markdown",
   "metadata": {},
   "source": [
    "\\begin{align}\n",
    "\\varphi(\\vec{r}) =& \\int_{-\\infty}^{+\\infty} e^{i \\vec{q}\\cdot \\vec{r}} \\varphi (\\vec{q}) \\mathrm{d}^3 q \\\\\n",
    "=& \\frac{-e}{2 \\pi^2 \\varepsilon_0} \\cdot \\frac{1}{r} \\int_0^{+\\infty} \\sin(qr)\\cdot \\frac{q}{q^2+q_{TF}^2} \\mathrm{d}q\\\\\n",
    "=& \\frac{-e}{4 \\pi \\varepsilon_0} \\cdot \\frac{1}{r} \\cdot \\frac{\\pi}{2}\\int_0^{+\\infty} \\sin(qr)\\cdot \\frac{q}{q^2+q_{TF}^2} \\mathrm{d}q\n",
    "\\end{align}"
   ]
  },
  {
   "cell_type": "markdown",
   "metadata": {},
   "source": [
    "对\n",
    "\\begin{align}\n",
    "\\frac{q}{q^2+q_{TF}^2}\n",
    "\\end{align}\n",
    "在 $q \\rightarrow +\\infty$ 展开(与在 $q_{TF}\\rightarrow 0$ 时对 $q_{TF}$ 展开相同):"
   ]
  },
  {
   "cell_type": "code",
   "execution_count": 61,
   "metadata": {},
   "outputs": [
    {
     "name": "stdout",
     "output_type": "stream",
     "text": [
      "- \\frac{q_{TF}^{2}}{q^{3}} + \\frac{1}{q} + O\\left(\\frac{1}{q^{5}}; q\\rightarrow \\infty\\right)\n"
     ]
    }
   ],
   "source": [
    "import sympy as sym\n",
    "q = sym.Symbol('q')\n",
    "q_tf = sym.Symbol('q_TF')\n",
    "s = sym.series(q/(q**2+q_tf**2),q,sym.oo,5)\n",
    "print(sym.latex(s))"
   ]
  },
  {
   "cell_type": "markdown",
   "metadata": {},
   "source": [
    "\\begin{align}\n",
    "\\frac{q}{q^2+q_{TF}^2}  =\\frac{q_{TF}^{2}}{q^{3}} + \\frac{1}{q} + O\\left(\\frac{1}{q^{5}}; q\\rightarrow \\infty\\right)\n",
    "\\end{align}"
   ]
  },
  {
   "cell_type": "markdown",
   "metadata": {},
   "source": [
    "计算 leading order"
   ]
  },
  {
   "cell_type": "markdown",
   "metadata": {},
   "source": [
    "\\begin{align}\n",
    " \\int_0^{+\\infty} \\sin(qr)\\cdot \\frac{1}{q}\\mathrm{d}q = \\frac{1}{2i} \\int_{-\\infty}^{+\\infty} e^{iqr}\\cdot \\frac{1}{q} \\mathrm{d}\n",
    "q = \\frac{1}{2i} \\cdot \\pi i \\cdot 1 = \\frac{\\pi}{2}\n",
    "\\end{align}"
   ]
  },
  {
   "cell_type": "markdown",
   "metadata": {},
   "source": [
    "这正好是精确结果 \n",
    "\\begin{align}\n",
    "\\frac{-e}{4 \\pi \\varepsilon_0} \\cdot \\frac{e^{-q_{TF} r}}{r}\n",
    "\\end{align}\n",
    "在 $q_{TF}\\rightarrow 0$ 时对 $q_{TF}$ 展开的结果的 leading order 相同."
   ]
  },
  {
   "cell_type": "markdown",
   "metadata": {},
   "source": [
    "<font color=red>问题1:</font> Thomas-Fermi 近似结果与精确结果的 $q_{TF}^2$ 的系数不同? "
   ]
  },
  {
   "cell_type": "markdown",
   "metadata": {},
   "source": [
    "<font color=red>问题2:</font> 为什么要对 $q$ 在 $q\\rightarrow +\\infty$ 展开? 积分的区间不是整个实轴吗?"
   ]
  },
  {
   "cell_type": "markdown",
   "metadata": {},
   "source": [
    "## RPA 的结果"
   ]
  },
  {
   "cell_type": "markdown",
   "metadata": {},
   "source": [
    "RPA 给出"
   ]
  },
  {
   "cell_type": "markdown",
   "metadata": {},
   "source": [
    "\\begin{align}\n",
    "\\varepsilon (\\vec{q}) = 1+ \\frac{q_{TF}^2}{q^2}g\\left( \\frac{q}{2k_F} \\right)\n",
    "\\end{align}"
   ]
  },
  {
   "cell_type": "markdown",
   "metadata": {},
   "source": [
    "将上式代入  𝜑(𝑞⃗ )  有"
   ]
  },
  {
   "cell_type": "markdown",
   "metadata": {},
   "source": [
    "\\begin{equation}\n",
    "\\varphi (\\vec{q})= \\frac{-e}{\\varepsilon_0 V q^2 \\left(1 +\\frac{q_{TF}^2}{q^2}\\right)} \n",
    "=\\frac{-e}{\\varepsilon_0 V \\left(q^2 +q_{TF}^2 g\\left( \\frac{q}{2k_F} \\right) \\right)} \n",
    "\\end{equation}"
   ]
  },
  {
   "cell_type": "markdown",
   "metadata": {},
   "source": [
    "其中"
   ]
  },
  {
   "cell_type": "markdown",
   "metadata": {},
   "source": [
    "\\begin{align}\n",
    "g(u) = \\frac{1}{2} \\left( 1+\\frac{1}{2u}(1-u^2)\\ln \\left| \\frac{1+u}{1-u} \\right| \\right)\n",
    "\\end{align}"
   ]
  },
  {
   "cell_type": "markdown",
   "metadata": {},
   "source": [
    "对 𝜑(𝑞⃗ ) 作 Fourier Transform  "
   ]
  },
  {
   "cell_type": "markdown",
   "metadata": {},
   "source": [
    "\\begin{align}\n",
    "\\varphi(\\vec{r}) =\\frac{-e}{2 \\pi^2 \\varepsilon_0} \\cdot \\frac{1}{r} \\int_0^{+\\infty}  \\sin(qr)\\cdot \\frac{q}{q^2+q_{TF}^2g( \\frac{q}{2k_F} )} \\mathrm{d}q\n",
    "\\end{align}"
   ]
  },
  {
   "cell_type": "markdown",
   "metadata": {},
   "source": [
    "### 级数展开"
   ]
  },
  {
   "cell_type": "markdown",
   "metadata": {},
   "source": [
    "对 \n",
    "\\begin{align}\n",
    "\\frac{q}{q^2+q_{TF}^2g( \\frac{q}{2k_F} )}\n",
    "\\end{align} \n",
    "在 $q\\rightarrow +\\infty$ 展开"
   ]
  },
  {
   "cell_type": "code",
   "execution_count": 6,
   "metadata": {},
   "outputs": [
    {
     "name": "stdout",
     "output_type": "stream",
     "text": [
      "\\frac{1}{q} - \\frac{4 k_{F}^{2} q_{TF}^{2}}{3 q^{5}} - \\frac{16 k_{F}^{4} q_{TF}^{2}}{15 q^{7}} - \\frac{64 k_{F}^{6} q_{TF}^{2}}{35 q^{9}} + O\\left(\\frac{1}{q^{10}}; q\\rightarrow \\infty\\right)\n",
      "1/q - 4*k_F**2*q_TF**2/(3*q**5) - 16*k_F**4*q_TF**2/(15*q**7) - 64*k_F**6*q_TF**2/(35*q**9) + O(q**(-10), (q, oo))\n"
     ]
    }
   ],
   "source": [
    "import sympy as sym\n",
    "q = sym.Symbol('q')\n",
    "q_tf = sym.Symbol('q_TF')\n",
    "kf = sym.Symbol('k_F')\n",
    "u = q/(2*kf)\n",
    "g = sym.Rational(1,2)*( 1+(1-u**2)/(2*u)*sym.log(sym.Abs((u+1)/(u-1)) ) )\n",
    "s = sym.series(q/(q**2+q_tf**2*g),q,sym.oo,10)\n",
    "print(sym.latex(s))\n",
    "print(s)\n"
   ]
  },
  {
   "cell_type": "markdown",
   "metadata": {},
   "source": [
    "$$\n",
    "\\frac{1}{q} - \\frac{4 k_{F}^{2} q_{TF}^{2}}{3 q^{5}} - \\frac{16 k_{F}^{4} q_{TF}^{2}}{15 q^{7}} - \\frac{64 k_{F}^{6} q_{TF}^{2}}{35 q^{9}} + O\\left(\\frac{1}{q^{10}}; q\\rightarrow \\infty\\right)\n",
    "$$"
   ]
  },
  {
   "cell_type": "markdown",
   "metadata": {},
   "source": [
    "\\begin{align}\n",
    "\\frac{q}{q^2+q_{TF}^2g( \\frac{q}{2k_F} )} = \\frac{\\frac{256 k_{F}^{8}}{63} - \\frac{64 k_{F}^{6} q_{TF}^{2}}{35} + \\frac{16 k_{F}^{4} q_{TF}^{4}}{15}}{q^{9}} + \\frac{\\frac{64 k_{F}^{6}}{35} - \\frac{16 k_{F}^{4} q_{TF}^{2}}{15} + \\frac{4 k_{F}^{2} q_{TF}^{4}}{3}}{q^{7}} + \\frac{\\frac{16 k_{F}^{4}}{15} - \\frac{4 k_{F}^{2} q_{TF}^{2}}{3}}{q^{5}} + \\frac{4 k_{F}^{2}}{3 q^{3}} + O\\left(\\frac{1}{q^{10}}; q\\rightarrow \\infty\\right)\n",
    "\\end{align}"
   ]
  },
  {
   "cell_type": "markdown",
   "metadata": {},
   "source": [
    "<font color=red>问题3:</font> 接下来该怎么做? 所有的展开项代入积分都是发散的."
   ]
  },
  {
   "cell_type": "code",
   "execution_count": 27,
   "metadata": {},
   "outputs": [
    {
     "data": {
      "image/png": "[encoded data removed]",
      "text/plain": [
       "<Figure size 432x288 with 1 Axes>"
      ]
     },
     "metadata": {
      "needs_background": "light"
     },
     "output_type": "display_data"
    }
   ],
   "source": [
    "import numpy as np\n",
    "from matplotlib import pyplot as plt\n",
    "q = np.linspace(0.1,10,1000)\n",
    "\n",
    "r = 5/4\n",
    "q_tf = 3/4\n",
    "kf = 1/2\n",
    "u = q/(2*kf)\n",
    "g = (1/2)*( 1+(1-u**2)/(2*u)*np.log(np.abs((u+1)/(u-1)) ) )\n",
    "\n",
    "phi = np.sin(q*r)*q/(q**2+q_tf**2*g)\n",
    "F = phi - np.sin(q*r)/q\n",
    "#plt.plot(q,phi)\n",
    "plt.plot(q,F)\n",
    "plt.show()"
   ]
  },
  {
   "cell_type": "markdown",
   "metadata": {},
   "source": [
    "# 参考文献\n"
   ]
  },
  {
   "cell_type": "code",
   "execution_count": null,
   "metadata": {},
   "outputs": [],
   "source": []
  },
  {
   "cell_type": "markdown",
   "metadata": {},
   "source": [
    "Friedel Oscillation 的原始文献 the shielding of a fixed charge in a high-density electron gas http://www.doc88.com/p-9512851691956.html "
   ]
  }
 ],
 "metadata": {
  "kernelspec": {
   "display_name": "Python 3",
   "language": "python",
   "name": "python3"
  },
  "language_info": {
   "codemirror_mode": {
    "name": "ipython",
    "version": 3
   },
   "file_extension": ".py",
   "mimetype": "text/x-python",
   "name": "python",
   "nbconvert_exporter": "python",
   "pygments_lexer": "ipython3",
   "version": "3.7.1"
  }
 },
 "nbformat": 4,
 "nbformat_minor": 2
}
